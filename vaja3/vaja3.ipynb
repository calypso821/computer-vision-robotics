{
 "cells": [
  {
   "cell_type": "markdown",
   "metadata": {},
   "source": [
    "# Robotski Manipulator\n",
    "\n",
    "Da uspešno opravite vajo, jo morate predstaviti asistentu na vajah. Pri nekaterih nalogah so vprašanja, ki zahtevajo skiciranje, ročno računanje in razmislek. Končno rešitev na takšna vprašanja vpišite v predvideni prostor, postopek reševanja pa razložite asistentu na vajah. Deli nalog, ki imajo pred navodilom navedene točke, niso obvezni. Brez njih lahko za celotno vajo dobite največ **75** točk (zgornja meja je **100** točk kar pomeni oceno 10). V nekaterih vajah je dodatnih nalog več in vam ni potrebno opraviti vseh."
   ]
  },
  {
   "cell_type": "code",
   "execution_count": 1,
   "metadata": {},
   "outputs": [],
   "source": [
    "# Run this cell to download the data used in this exercise\n",
    "import zipfile, urllib.request, io\n",
    "zipfile.ZipFile(io.BytesIO(urllib.request.urlopen(\"https://data.vicos.si/lukacu/rrz/vaja3.zip\").read())).extractall()"
   ]
  },
  {
   "cell_type": "markdown",
   "metadata": {},
   "source": [
    "## Uvod - Krmiljenje robotskega manipulatorja\n",
    "\n",
    "V okviru te naloge si bomo ogledali način za krmiljenje pravega (in navideznega) robotskega manipulatorja. V Laboratoriju za umetne vizualne spoznavne sisteme (LUVSS) je bil razvit robotski manipulator za pedagoške potrebe, ki ga lahko iz lastnega računalnika krmilite preko lokalne mreže. V laboratoriju imamo devet fizičnih manipulatorjev, ki so med delovnim časom na voljo študentom za uporabo tudi izven terminov vaj. Da pa lahko vsaj delno na vaji delate tudi doma je bila narejena slika sistema za virtualni stroj VirtualBox, ki vam omogoča, da krmiljenje manipulatorja preizkušate doma. Seveda pa v tem primeru nimate na voljo možnosti manipulacije okolja, lahko pa testirate zaznavo ter upravljanje s programskim vmesnikom."
   ]
  },
  {
   "cell_type": "markdown",
   "metadata": {},
   "source": [
    "### Vzpostavitev povezave s fizičnim robotskim manipulatorjem\n",
    "\n",
    "1. V laboratoriju se povežite na <i>TurtleNet</i> mrežo (podatke za povezavo boste dobili na vajah). \n",
    "2. Priklopite želeni manipulator na napajanje.\n",
    "3. Na manipulatorju preberite ID roke (npr. <i>'Roka #6'</i>), ki vam pove IP roke - v tem primeru <i>'roka6.local'</i>. Ker je podpora za\n",
    "4. Povežite se na manipulator ter aktivirajte napajanje motorjev v sklepih z uporabo strojnega stikala na krmilni plošči.\n",
    "\n",
    "V primeru, da bo manipulator prišel v položaj, ko se bo kakšen motor zataknil ob oviro, čimprej izklopite napajanje motorjev z uporabo strojnega stikala na krmilni plošči, da se prepreči okvara motorjev.\n",
    "\n",
    "**Opozorilo:** Ker boste robotske manipulatorje lahko uporabljali le v fakultetnih prostorih, na samih vajah pa verjetno ne bo dovolj časa, niti dovolj manipulatorjev za vse študente, se z asistentom dogovorite za termine, ko bodo roboti na voljo za uporabo v laboratoriju. Doma lahko že vse vaje vsaj okvirno preverite v simulacijskem načinu."
   ]
  },
  {
   "cell_type": "markdown",
   "metadata": {},
   "source": [
    "### Uporaba virutalnega stroja\n",
    "\n",
    "1. Iz spletne učilnice si prenesite <a href=\"https://ucilnica.fri.uni-lj.si/mod/url/view.php?id=17871\">sliko navideznega okolja</a>.\n",
    "2. Prenesite si <a href=\"https://www.virtualbox.org/wiki/Downloads\">VirtualBox</a> ter <a href=\"https://www.virtualbox.org/wiki/Downloads\">VirtualBox Extension Pack</a> za delo s spletno kamero.\n",
    "    1. <i>Opomba: Spletno kamero obvezno dodajte kot USB2.0 ali USB3.0</i>\n",
    "    2. <i>Opomba: Če spletne kamere nimate, lahko uporabite namesto nje tudi pametni telefon. Več o tem si preberite spodaj.    </i>\n",
    "3. Namestite VirtualBox in naložite sliko navideznega robotske manipulatorja.\n",
    "    1. V glavnem meniju izberite <i>Machine</i> ter <i>Add...</i> in poiščite sliko navideznega robotskega manipulatorja na računalniku.\n",
    "    2. <i>Opomba: Če delate v Windows okolju, potem morate izklopiti <a href=\"https://support.microsoft.com/en-us/help/3204980/virtualization-applications-do-not-work-together-with-hyper-v-device-g\">Hyper-V</a> hypervisor.</i>\n",
    "4. Za navidezni stroj dodajte nov Network adapter (<i>Settings</i> in <i>Network</i>) in nastavite opcije <i>Attached to</i> na <b>\"NAT\"</b>. To vam bo omogočilo dostop do interneta iz navideznega stroja.\n",
    "5. Poženite navidezni stroj ter ga posodobite na najnovejšo verzijo z izvedbo ukaza <b>\"sudo apt-get update && sudo apt-get --with-new-pkgs upgrade\"</b> ter izbiro funkcije <b>(3 - Upgrade system)</b>. Do terminala dostopate z izbiro funkcije (4 - Exit to terminal). Geslo za administratorski način je <i>manus</i>. Podatki o vaši trenutni verziji navideznega stroja so prikazi v glavnem meniju navideznega stroja desno spodaj. Za uspešno opravljanje vaj boste potrebovali verzijo 2.33. V kolikor te verzije nimate, posodobite še ustrezne manjkajoče pakete.\n",
    "6. Izklopite navidezni stroj (5 - Shutdown) ter spremenite nastavitev <i>Attached to</i> Network adapter-ja v <b>\"Host-only adapter\"</b>. To vam bo omogočilo komunikacijo z navideznim strojem preko HTTP vmesnika.\n",
    "7. Poženite znova navidezni stroj in izberite opcijo (1 - Manus simulator using image) za delo s prednaloženo statično sliko, ali opcijo (2 - Manus simulator using camera) za delo z živo sliko, zajeto s pomočjo vaše spletne kamere.\n",
    "8. Ko izberete eno izmed zgoraj naštetih opcij, se vam bo izpisal IP naslov za dostop do navideznega stroja preko HTTP vmesnika. Do grafičnega vmesnika stroja lahko dostopate s pomočjo brskalnika, tako da v orodno vrstico vpišete http://IP-naslov-stroja in odprlo se vam bo okno s kontrolami, prikazano na sliki zgoraj.\n",
    "\n",
    "**V primeru, da nimate USB kamere:** V kolikor spletne kamere nimate na voljo, lahko le-to simulirate s pomočjo pametnega telefona (Android/iPhone). Za simulacijo spletne kamere obstaja več različnih aplikacij (tako plačljivih kot zastojnskih), na primer [iVCam](https://www.e2esoft.com/ivcam/). Za bolj podrobna navodila glede uporabe aplikacije iVCam si lahko ogledate vodič na <a href=\"https://www.youtube.com/watch?v=__YqPT0GHE8\">YouTube</a>.\n",
    "\n",
    "\n"
   ]
  },
  {
   "cell_type": "markdown",
   "metadata": {},
   "source": [
    "## Naloga 1 - Programsko upravljanje manipulatorja\n",
    "\n",
    "* Spodaj je prikazan primer uporabe funkcij, ki služijo kot most med robotskim manipulatorjem, s katerim komunicirajo preko HTTP zahtev. Pričakovano je, da v okviru vaj vzpostavite sistem ter preko vaših skript krmilite manipulator v scenarijih, ki so navedeni v nadaljevanju."
   ]
  },
  {
   "cell_type": "code",
   "execution_count": 5,
   "metadata": {},
   "outputs": [
    {
     "name": "stdout",
     "output_type": "stream",
     "text": [
      "Moving to the safe/initial position... Done!\n"
     ]
    }
   ],
   "source": [
    "# PRIMER - Vzpostavitev povezave z (navideznim) robotskim manipulatorjem in postavitev le-tega v varno pozo\n",
    "\n",
    "# Pomembne funkcije za delo z manipulatorjem so:\n",
    "#   * .state() - nam vrne stanje manipulatorja\n",
    "#   * .joints - nam vrne seznam sklepov ter njihove vrednosti\n",
    "#   * .move(state) - premakne manipulator v novo stanje \"state\"\n",
    "#   * .position(state) - izracuna 3D lego konca manipulatorja za stanje \"state\"\n",
    "#   * .solve(position) - izracuna IK za premik manipulatorja v 3D tocko \"position\"\n",
    "\n",
    "import manus\n",
    "\n",
    "## Vzpostavite povezave s strežnikom\n",
    "# 'address' zamenjajte z IP-jem vašega navideznega/fizičnega manipulatorja\n",
    "server = manus.Server(address=\"10.32.220.156\", port=80)\n",
    "\n",
    "## Inicializacija manipulatorja\n",
    "manipulator = manus.Manipulator(server)\n",
    "\n",
    "## Premikanje manipulatorja\n",
    "# Stanje sklepov za t.i. varno pozo\n",
    "safe_position = [0.0, 2.3179938316345215, -1.5707963705062866, -1.2217304706573486, 0.0, 0.0, 0.0]\n",
    "# Izvedba dejanskega premika manipulatorja v varno pozo\n",
    "print('Moving to the safe/initial position...', end=' ')\n",
    "manipulator.move(safe_position)\n",
    "print('Done!')"
   ]
  },
  {
   "cell_type": "markdown",
   "metadata": {},
   "source": [
    "* Implementirajte manever manipulatorja, da bo le-ta nad delovno površino narisal inicialki vašega imena in priimka. Predstavljajte si, da inicialke rišete na papir, ki leži na delovni površini. Naloge se lotite z neposrednim krmiljenjem vsakega motorja posebej -- izračunajte torej kombinacijo sklepov, za vsak položaj v gibu. Pazite na to, da roka nikoli ne zadane v podlago. Pri risanju inicialk bodite pozorni na dvig manipulatorja, ko se morate premakniti iz enega mesta na drugo brez risanja črte (npr. pri risanju prečne črte pri črki A). Med risanjem ene in druge črke naj se manipulator vrne v varno/izhodiščno pozo."
   ]
  },
  {
   "cell_type": "code",
   "execution_count": null,
   "metadata": {},
   "outputs": [],
   "source": [
    "# PRIMER - Izris črk B B navpično nad delovno površino\n",
    "\n",
    "import manus\n",
    "import time\n",
    "\n",
    "## Vzpostavite povezave s strežnikom\n",
    "# 'address' zamenjajte z IP-jem vašega navideznega/fizičnega manipulatorja\n",
    "server = manus.Server(address=\"192.168.56.101\", port=80)\n",
    "\n",
    "## Inicializacija manipulatorja\n",
    "manipulator = manus.Manipulator(server)\n",
    "\n",
    "## Premikanje manipulatorja\n",
    "# Stanje sklepov za t.i. varno pozo\n",
    "safe_position = [0.0, 2.6179938316345215, -1.5707963705062866, -1.2217304706573486, 0.0, 0.0, 0.0]\n",
    "# Izvedba dejanskega premika manipulatorja v varno pozo\n",
    "print('Moving to the safe/initial position...', end=' ')\n",
    "manipulator.move(safe_position)\n",
    "print('Done!')\n",
    "\n",
    "## Risanje črk\n",
    "# Stanja sklepov za izris črke B\n",
    "# Črko lahko naredite bolj gladko z definiranjem vmesnih stanj\n",
    "b = [[0.005244729109108448, 1.2272666692733765, -0.714739978313446, -0.2569917142391205, 0.0, -1.5707963705062866, 0.0],\n",
    "     [0.005244729109108448, 1.0699247121810913, -1.060892105102539, -0.6241227388381958, 0.0, -1.5707963705062866, 0.0],\n",
    "     [0.16258659958839417, 1.0804141759872437, -0.9647387266159058, -0.5087386965751648, 0.0, -1.5707963705062866, 0.0],\n",
    "     [-0.005244729109108448, 1.1328614950180054, -0.8814058303833008, -0.4248230457305908, 0.0, -1.5707963705062866, 0.0],\n",
    "     [0.2569917142391205, 1.180064082145691, -0.7980729341506958, -0.3304179310798645, 0.0, -1.5707963705062866, 0.0],\n",
    "     [0.005244729109108448, 1.2272666692733765, -0.714739978313446, -0.2569917142391205, 0.0, -1.5707963705062866, 0.0]]\n",
    "\n",
    "# Risanje črk\n",
    "for i in range(2):  # Za risanje dveh črk B\n",
    "    print('Drawing letter B')\n",
    "    for j in range(len(b)):  # Za risanje črke B\n",
    "        print('\\tMoving to position %d...' % j, end=' ')\n",
    "        manipulator.move(b[j])\n",
    "        print('Done!')\n",
    "        time.sleep(2)\n",
    "    print('\\tMoving to the safe/initial position...', end=' ')\n",
    "    manipulator.move(safe_position)\n",
    "    print('Done!')\n",
    "    time.sleep(2)\n",
    "    "
   ]
  },
  {
   "cell_type": "code",
   "execution_count": null,
   "metadata": {},
   "outputs": [],
   "source": [
    "# Zapišite rešitev tukaj"
   ]
  },
  {
   "cell_type": "markdown",
   "metadata": {},
   "source": [
    "## Naloga 2 - Denavit-Hartenbergerjevi parametri\n",
    "\n",
    "V sklopu naslednjih nalog bomo v praksi spoznali nekaj osnovnih pristopov k upravljanju robotskega manipulatorja. Za upravljanje manipulatorja moramo prvo spoznati njegove lastnosti, ki jih na kompakten način opišemo z <i><a href=\"https://en.wikipedia.org/wiki/Denavit%E2%80%93Hartenberg_parameters\" target=\"_blank\">Denavit-Hartenbergerjevi parametri</a></i>. Ti parametri zajamejo nujne parametre geometrijskega modela robotskega manipulatorja. Kako uporabljamo te parametre si bomo pogledali v prvi nalogi.\n",
    "\n",
    "Geometrijski model manipulatorja lahko sicer v splošnem določimo kot verigo transformacij. Bolj natančno gre za transformacije, ki nas iz izhodiščnega prostora manipulatorja preslikajo v prostor posameznega sklepa (torej lahko neposredno določimo, kako daleč je določena točka od prijemala, lahko pa določimo tudi njeno relativno lego). Na ta način lahko seveda določimo tudi položaj zadnjega sklepa (prijemala), če s končno transformacijo te verige preslikamo kar izhodiščno točko $(0, 0, 0)$.\n",
    "\n",
    "Transformacijo lahko definiramo s pomočjo homogenih koordinat, oziroma matrike, ki opisuje novi prostor:\n",
    "\n",
    "$$\\mathbf{T}(q) = \\begin{bmatrix} n(x) & s(x) & a(x) & p(x) \\\\ n(y) & s(y) & a(y) & p(y) \\\\ n(z) & s(z) & a(z) & p(z) \\\\ 0 & 0 & 0 & 1 \\end{bmatrix}$$\n",
    "\n",
    "matriko pa lahko interpretiramo tudi kot štiri vektorje $n$, $s$, $a$, in $p$, ki definirajo preslikani prostor:\n",
    "\n",
    "* $p$ - translacija med prostoroma\n",
    "* $a$ - approach (približevanje objektu) ($z$ os)\n",
    "* $n$ - normala ($x$ os)\n",
    "* $s$ - slide ($y$ os)\n",
    "\n",
    "V zgoraj opisanem primeru je matrika izražena kot funkcija parametra q. Ta je vektor spremenljivk, ki definirajo stanje sklepov.\n",
    "\n",
    "Problem določanja položaja robotskega manipulatorja lahko poenostavimo, saj gre pri vsem skupaj le za nizanje omejenega števila bazičnih operacij, ki so odvisne zgolj od tipa sklepov ter njihovih položajev. Denavit-Hartenbergerjevi parametri nam omogočajo prav to - poenostavljeno računanje transformacije.\n",
    "\n",
    "Vsak sklep opisujejo štirje parametri, trije statični ter eden, ki se spreminja (kateri je to, je odvisno od tipa sklepa):\n",
    "\n",
    "* $\\theta$ - rotacija okrog osi $z$ (parameter v $q$, če je sklep rotacijski)\n",
    "* $d$ - premik v samem sklepu po $z$ (parameter v $q$, če je sklep translacijski)\n",
    "* $a$ - razdalja med sklepoma po $x$ osi\n",
    "* $\\alpha$ - rotacija okrog osi $x$ osi\n",
    "\n",
    "Izračun matrike za $i$-ti sklep izrazimo rekurzivno; z uporabo matrike za $(i - 1)$-ti sklep računamo matriko za $i$-ti sklep.\n",
    "\n",
    "$$\n",
    "    \\mathbf{T}_i = \\mathbf{T}_{i-1}\n",
    "\\left[ {\\begin{array}{}\n",
    "   {cos \\theta_i } & { -sin \\theta_i } & {0 } & {0 }  \\\\\n",
    "   {sin \\theta_i } & {cos \\theta_i } & {0 } & {0 } \\\\\n",
    "   {0 } & {0 } & {1 } & {d_i } \\\\\n",
    "   {0 } & {0 } & { 0 } & {1 }  \\\\\n",
    "\\end{array}} \\right]\n",
    "\\left[ {\\begin{array}{}\n",
    "   {1 } & {0 } & {0 } & {a_i } \\\\\n",
    "   {0} & {cos \\alpha_i } & { -sin \\alpha_i } & {0 }  \\\\\n",
    "   {0} & {sin \\alpha_i } & {cos \\alpha_i } & {0 } \\\\\n",
    "   {0 } & {0 } & { 0 } & {1 }  \\\\\n",
    "\\end{array}} \\right].\n",
    "$$"
   ]
  },
  {
   "cell_type": "code",
   "execution_count": null,
   "metadata": {},
   "outputs": [],
   "source": [
    "# Zapišite rešitev tukaj"
   ]
  },
  {
   "attachments": {
    "stanford.png": {
     "image/png": "[encoded data removed]"
    }
   },
   "cell_type": "markdown",
   "metadata": {},
   "source": [
    "* Za Stanfordski model, predstavljen na spodnji sliki, določi tabelo Denavit-Hartenbergerjevih parametrov. Označite parametre, ki se lahko med delovanjem manipulatorja spreminjajo.\n",
    "\n",
    "![stanford](attachment:stanford.png)\n"
   ]
  },
  {
   "cell_type": "code",
   "execution_count": 1,
   "metadata": {},
   "outputs": [],
   "source": [
    "# Zapišite rešitev tukaj"
   ]
  },
  {
   "cell_type": "markdown",
   "metadata": {},
   "source": [
    "* Napišite funkcijo <i>stanford_manipulator()</i>, ki za dani vektor parametrov vrne matrike transformacij iz izhodišča v vse tri sklepe. Dolžina prvih dveh sklepov naj bo 5 enot, zadnjega pa 2 enoti. Na podoben način določite tudi funkcijo <i>antropomorphic_manipulator()</i>, ki vrne isti rezultat za antropomorfni manipulator. Dolžina vseh treh sklepov naj bo $3$ enote. Pri reševanju naloge si pomagajta s spodaj priloženo funkcijo <i>dh_joint()</i>:"
   ]
  },
  {
   "cell_type": "code",
   "execution_count": 6,
   "metadata": {},
   "outputs": [],
   "source": [
    "import numpy as np\n",
    "\n",
    "def dh_joint(parameters):\n",
    "    # Input: List of DH parameters for a joint, written as [a, alpha, d, theta]\n",
    "    # Output: 4x4 homogeneous transformation matrix\n",
    "    \n",
    "    A = np.zeros((4, 4))\n",
    "\n",
    "    A[0, 0] = np.cos(parameters[3])\n",
    "    A[1, 0] = np.sin(parameters[3])\n",
    "    A[0, 1] = -np.sin(parameters[3]) * np.cos(parameters[1])\n",
    "    A[1, 1] = np.cos(parameters[3]) * np.cos(parameters[1])\n",
    "    A[2, 1] = np.sin(parameters[1])\n",
    "    A[0, 2] = np.sin(parameters[3]) * np.sin(parameters[1])\n",
    "    A[1, 2] = -np.cos(parameters[3]) * np.sin(parameters[1])\n",
    "    A[2, 2] = np.cos(parameters[1])\n",
    "    A[0, 3] = parameters[0] * np.cos(parameters[3])\n",
    "    A[1, 3] = parameters[0] * np.sin(parameters[3])\n",
    "    A[2, 3] = parameters[2]\n",
    "    A[3, 3] = 1\n",
    "    \n",
    "    return A"
   ]
  },
  {
   "cell_type": "code",
   "execution_count": 7,
   "metadata": {},
   "outputs": [],
   "source": [
    "# Zapišite rešitev tukaj\n",
    "\n",
    "import numpy as np\n",
    "\n",
    "def stanford_manipulator(a1, a2, a3):\n",
    "    # Izračun A1, A2 in A3 na podlagi vhodnih parametrov a1, a2 in a3\n",
    "    return [A1, A2, A3]"
   ]
  },
  {
   "cell_type": "code",
   "execution_count": 8,
   "metadata": {},
   "outputs": [],
   "source": [
    "# Zapišite rešitev tukaj\n",
    "\n",
    "import numpy as np\n",
    "\n",
    "def antropomorphic_manipulator(a1, a2, a3):\n",
    "    # Izračun A1, A2 in A3 na podlagi vhodnih parametrov a1, a2 in a3    \n",
    "    return [A1, A2, A3]\n",
    "    "
   ]
  },
  {
   "cell_type": "markdown",
   "metadata": {},
   "source": [
    "* Vizualizirajte položaje posameznih sklepov robotskega manipulatorja za implementirani Stanfordski robotski model. Najprej izračunajte matrike za dano stanje manipulatorja, nato izhodiščno točko $(0, 0, 0)$ pomnožite z matriko vsakega sklepa posebej. Tako dobite položaje posameznih sklepov posebej. V nadaljevanju prikažite koordinatne sisteme za vse tri sklepe s pomočjo spodaj priložene funkcije <i>show_system()</i>. Za sam izris manipulatorja lahko uporabite matplitlib funkcije za risanje 3D grafov <i>plot3D</i> ter <i>scatter3D</i>, kjer ločeno podate vektorje treh koordinat sklepov (le-te dobite tako, da izhodiščno točko $(0, 0, 0)$ pomnožite z matriko ustreznega sklepa)."
   ]
  },
  {
   "cell_type": "code",
   "execution_count": 9,
   "metadata": {},
   "outputs": [],
   "source": [
    "from mpl_toolkits import mplot3d\n",
    "import matplotlib.pyplot as plt\n",
    "import numpy as np\n",
    "\n",
    "def show_system(ax, M):\n",
    "    \n",
    "    x_1 = np.array([M[0, 3], M[0, 3] + M[0, 0]])\n",
    "    y_1 = np.array([M[1, 3], M[1, 3] + M[1, 0]])\n",
    "    z_1 = np.array([M[2, 3], M[2, 3] + M[2, 0]])\n",
    "    \n",
    "    x_2 = np.array([M[0, 3], M[0, 3] + M[0, 1]])\n",
    "    y_2 = np.array([M[1, 3], M[1, 3] + M[1, 1]])\n",
    "    z_2 = np.array([M[2, 3], M[2, 3] + M[2, 1]])\n",
    "    \n",
    "    x_3 = np.array([M[0, 3], M[0, 3] + M[0, 2]])\n",
    "    y_3 = np.array([M[1, 3], M[1, 3] + M[1, 2]])\n",
    "    z_3 = np.array([M[2, 3], M[2, 3] + M[2, 2]])\n",
    "    \n",
    "    ax.plot3D(x_1, y_1, z_1, 'red');\n",
    "    ax.plot3D(x_2, y_2, z_2, 'green');\n",
    "    ax.plot3D(x_3, y_3, z_3, 'blue');\n"
   ]
  },
  {
   "cell_type": "code",
   "execution_count": null,
   "metadata": {},
   "outputs": [],
   "source": [
    "# Zapišite rešitev za Stanfordski manipulator tukaj"
   ]
  },
  {
   "cell_type": "code",
   "execution_count": null,
   "metadata": {},
   "outputs": [],
   "source": [
    "# Zapišite rešitev za antropomorfni manipulator tukaj"
   ]
  },
  {
   "cell_type": "markdown",
   "metadata": {},
   "source": [
    "* Z uporabo funkcije <i>antropomorphic_manipulator()</i> izračunajte razdaljo zadnjega sklepa manipulatorja do točke $(3, 3, 4)$ za vektor parametrov stanja $(0.2, 0.1, 0.3)$. Najprej izračunajte matrike za dano stanje manipulatorja, nato izhodiščno točko $(0, 0, 0)$ pomnožite z matriko zadnjega sklepa, da dobite položaj zadnjega sklepa v prostoru. Izračunajte Evklidsko razdaljo med točkama in jo izpišite v terminal, rezultat bi moral biti $3.257$."
   ]
  },
  {
   "cell_type": "code",
   "execution_count": 12,
   "metadata": {},
   "outputs": [],
   "source": [
    "# Zapišite rešitev tukaj"
   ]
  },
  {
   "cell_type": "markdown",
   "metadata": {},
   "source": [
    "* **(5 točk)** Iz prejšnje naloge izpeljite skripto, ki vizualizira razdaljo od točke $(3, 3, 4)$ pri fiksiranem parametru drugega sklepa za vrednosti parametrov prvega in zadnjega sklepa. Za vrednosti posameznega sklepa izberite ustrezen interval ter nato za posamezne pare vrednosti izračunajte razdaljo do točke. Razdalje lahko shranite v matriko in jo prikažete kot sliko, lahko pa si izberete tudi prikaz v obliki površinskega grafa."
   ]
  },
  {
   "cell_type": "code",
   "execution_count": 13,
   "metadata": {},
   "outputs": [],
   "source": [
    "# Zapišite rešitev tukaj"
   ]
  },
  {
   "cell_type": "markdown",
   "metadata": {},
   "source": [
    "## Naloga 3 - Inverzna Kinematika\n",
    "\n",
    "Veliko bolj praktično, kot ugotavljanje razdalje do določene točke za izbrani nabor parametrov, pa bi bilo, da bi robotskemu sistemu podali ciljno točko (in rotacijo), robotski sistem pa bi sam našel ustrezne parametre, v katerih bi manipulator bil v takem stanju. Takemu problemu rečemo povratna oziroma <i>inverzna</i> kinematika (okrajšano IK). Le-ta ni uporabna samo v robotiki, uporablja se tudi pri animaciji računalniških likov v računalniških igrah in animiranih filmih."
   ]
  },
  {
   "cell_type": "markdown",
   "metadata": {},
   "source": [
    "* Zakaj je inverzna kinematika v splošnem težko rešljiv problem?\n",
    "\n",
    "   *Namig: koliko je lahko naborov parametrov, ki robotski manipulator postavijo v določeno stanje?*"
   ]
  },
  {
   "cell_type": "code",
   "execution_count": null,
   "metadata": {},
   "outputs": [],
   "source": [
    "# Zapišite rešitev tukaj"
   ]
  },
  {
   "cell_type": "markdown",
   "metadata": {},
   "source": [
    "V nadaljevanju si bomo pogledali osnove reševanja problemov inverzne kinematike. Osnovna ideja je preprosta: za podane začetne parametre stanja manipulatorja, prostor preiskovanja ter ciljno točko iščemo take parametre, ki bodo minimizirali razdaljo zadnjega sklepa manipulatorja do ciljne točke. Ker pa se stvari pri implementaciji hitro zapletejo, boste sami implementirali samo nekaj osnovih idej, potem pa boste uporabili malo bolj napreden algoritem za reševanje problemov inverzne kinematike z uporabo stohastične optimizacije."
   ]
  },
  {
   "cell_type": "markdown",
   "metadata": {},
   "source": [
    "* **(10 točk)** Implementirajte preprost algoritem, ki optimizira samo položaj prvega sklepa antropomorfnega manipulatorja (druga dva pa sta statična). Uporabite funkcijo <i>antropomorphic_manipulator</i>, ki ste jo implementirali v prejšnji nalogi. Naloge se lahko lotite s katero od iterativnih metod optimizacije (na primer Newton-ovo metodo ali njenimi izpeljankami). Tak način reševanja je primeren za en parameter, bi se obnesel tudi za optimizacijo večjega števila parametrov?"
   ]
  },
  {
   "cell_type": "code",
   "execution_count": 78,
   "metadata": {},
   "outputs": [],
   "source": [
    "# Zapišite rešitev tukaj"
   ]
  },
  {
   "cell_type": "markdown",
   "metadata": {},
   "source": [
    "* Oglejte si kodo funkcije <i>.solve()</i> iz skripte <i>manus.py</i>. Ta algoritem rešuje problem inverzne kinematike z uporabo <a href=\"https://en.wikipedia.org/wiki/Coordinate_descent\" target=\"_blank\">iterativne metode spusta po koordinatah</a>. Algoritma sicer ni potrebno v celoti razumeti, saj ne sodi v ožjo snov predmeta, morate pa se po njem znajti dovolj, da ga uporabite v lastni kodi. Poleg tega, se je potrebno zavedati tudi omejitev algoritma, saj le-ta predstavlja zelo preprost način reševanja problema inverzne kinematike, ne konvergira vedno in le delno upošteva omejitve med posameznimi sklepi robotskega manipulatorja.\n",
    "\n",
    "    Metodo <i>.solve()</i> preizkusite z uporabo spodaj priložene funkcije, ki premakne manipulator iz varne/začetne poze v točko $A = (100, 100, 100)$, nato v točko $B = (100, -100, 100)$, nakar vrne manipulator nazaj v začetno pozo."
   ]
  },
  {
   "cell_type": "code",
   "execution_count": null,
   "metadata": {},
   "outputs": [],
   "source": [
    "import manus\n",
    "\n",
    "server = manus.Server(address='192.168.56.101', port=80)\n",
    "manipulator = manus.Manipulator(server)\n",
    "\n",
    "safe_state = [0.0, 2.6179938316345215, -1.5707963705062866, -1.2217304706573486, 0.0, 0.0, 0.0]\n",
    "point_A = [100, 100, 100]\n",
    "point_B = [100, -100, 100]\n",
    "\n",
    "# Move manipulator to the safe state\n",
    "manipulator.move(safe_state)\n",
    "\n",
    "# Solve IK to get the goal state for moving the manipulator to the point_A\n",
    "state_A = manipulator.solve(point_A)\n",
    "# Move the manipulator\n",
    "manipulator.move(state_A)\n",
    "\n",
    "# Solve IK to get the goal state for moving the manipulator to the point_B\n",
    "state_B = manipulator.solve(point_B)\n",
    "# Move the manipulator\n",
    "manipulator.move(state_B)\n",
    "\n",
    "# Move manipulator back to the safe state\n",
    "manipulator.move(safe_state)"
   ]
  },
  {
   "cell_type": "markdown",
   "metadata": {},
   "source": [
    "* Napišite skripto, ki robotski manipulator krožno premika med štirimi točkami kvadrata nad delovno površino. Koordinate točk si izberite sami, vendar bodite pozorni, da je ena virtualna enota enaka enemu milimetru v naravi ter, da točke ne bodo take, da bi manipulator prišel v ilegalno stanje ter se s tem kvarili motorji. Manipulator naj se torej premakne v točko $A$, nato v točko $B$, točko $C$, točko $D$. Nato sledi spet točka $A$ in tako dalje."
   ]
  },
  {
   "cell_type": "code",
   "execution_count": null,
   "metadata": {},
   "outputs": [],
   "source": [
    "# Zapišite rešitev tukaj\n",
    "\n",
    "import manus\n",
    "\n",
    "server = manus.Server(address='192.168.56.101', port=80)\n",
    "manipulator = manus.Manipulator(server)\n",
    "\n",
    "def draw_square():\n",
    "    # Krožno premikanje med štirimi točkami kvadrata\n",
    "    pass\n",
    "\n",
    "draw_square()"
   ]
  },
  {
   "cell_type": "markdown",
   "metadata": {},
   "source": [
    "* Implementirajte manever manipulatorja, da bo le-ta nad delovno površino narisal inicialki vašega imena in priimka. Predstavljajte si, da inicialke rišete na papir, ki leži na delovni površini. Naloge se lotite z uporabo inverzne kinematike (bodite pozorni, da so točke razporejene v pravilnem vrstnem redu, ter, da jih izberete dovolj na gosto, saj ne morete krmiliti vsakega sklepa posebej)."
   ]
  },
  {
   "cell_type": "code",
   "execution_count": null,
   "metadata": {},
   "outputs": [],
   "source": [
    "# Zapišite rešitev tukaj"
   ]
  },
  {
   "cell_type": "markdown",
   "metadata": {},
   "source": [
    "* **(10 točk)** Eno izmed implementacij risanja inicialk lahko v navezavi s pravim robotskim manipulatorjem izpopolnite tako, da v prijemalo postavite pravi svinčnik ali kemik, na delovno površino pa list papirja (delovno površino res zaščitite pred poškodbami!). Roka naj na list nariše črko, število dodatnih točk pa bo odvisno od kvalitete izrisa. Na zagovoru vam ni potrebno ponoviti celotnega procesa, lahko prinesite izvorno kodo, list z izrisano črko ter posnetek risanja."
   ]
  },
  {
   "cell_type": "code",
   "execution_count": null,
   "metadata": {},
   "outputs": [],
   "source": [
    "# Zapišite rešitev tukaj"
   ]
  },
  {
   "cell_type": "markdown",
   "metadata": {},
   "source": [
    "* **(10 točk)** Z uporabo inverzne kinematike napišite program, ki bo na vnaprej določenem mestu na delovni površini pobral kocko ter jo prenesel na drugo vnaprej določeno mesto. Nato se bo vrnil po novo kocko in jo postavil na prvo kocko. Ta proces se naj ponavlja vmes pa lahko čakate nekaj sekund za postavitev nove kocke ali pa na pritisk tipke. Kot je očitno, morate to nalogo v večjem delu izdelati v laboratoriju s pravo robotsko roko. Za polno število točk morate eno na drugo zložiti vsaj pet kock. Končni rezultat lahko posnamete in na zagovor prinesete posnetek in izvorno kodo."
   ]
  },
  {
   "cell_type": "code",
   "execution_count": null,
   "metadata": {},
   "outputs": [],
   "source": [
    "# Zapišite rešitev tukaj"
   ]
  }
 ],
 "metadata": {
  "kernelspec": {
   "display_name": "venv",
   "language": "python",
   "name": "python3"
  },
  "language_info": {
   "codemirror_mode": {
    "name": "ipython",
    "version": 3
   },
   "file_extension": ".py",
   "mimetype": "text/x-python",
   "name": "python",
   "nbconvert_exporter": "python",
   "pygments_lexer": "ipython3",
   "version": "3.12.0"
  }
 },
 "nbformat": 4,
 "nbformat_minor": 2
}
